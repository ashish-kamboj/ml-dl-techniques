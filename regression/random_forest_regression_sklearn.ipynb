{
 "cells": [
  {
   "cell_type": "markdown",
   "metadata": {},
   "source": [
    "# Random Forest Regression Example"
   ]
  },
  {
   "cell_type": "code",
   "execution_count": 1,
   "metadata": {},
   "outputs": [],
   "source": [
    "## Importing Libraries\n",
    "\n",
    "from sklearn.ensemble import RandomForestRegressor\n",
    "from sklearn import datasets"
   ]
  },
  {
   "cell_type": "code",
   "execution_count": 2,
   "metadata": {},
   "outputs": [],
   "source": [
    "## Loading Dataset\n",
    "\n",
    "# Load the diabetes dataset\n",
    "diabetes_X, diabetes_y = datasets.load_diabetes(return_X_y=True)"
   ]
  },
  {
   "cell_type": "code",
   "execution_count": 3,
   "metadata": {},
   "outputs": [],
   "source": [
    "## Model Building\n",
    "\n",
    "# Split the data into training/testing sets\n",
    "diabetes_X_train = diabetes_X[:-20]\n",
    "diabetes_X_test = diabetes_X[-20:]\n",
    "\n",
    "# Split the targets into training/testing sets\n",
    "diabetes_y_train = diabetes_y[:-20]\n",
    "diabetes_y_test = diabetes_y[-20:]\n",
    "\n",
    "# Create Random Forest regression object with default parameter values\n",
    "random_forest_regression = RandomForestRegressor()\n",
    "\n",
    "# Train the model using the training sets\n",
    "random_forest_regression.fit(diabetes_X_train, diabetes_y_train)\n",
    "\n",
    "# Make predictions using the testing set\n",
    "diabetes_y_pred = random_forest_regression.predict(diabetes_X_test)"
   ]
  },
  {
   "cell_type": "code",
   "execution_count": 5,
   "metadata": {},
   "outputs": [],
   "source": [
    "# Random Forest Regression object with default parameter values- detailed\n",
    "\n",
    "\"\"\"\n",
    "decision_tree_regression = RandomForestRegressor(n_estimators=100, \n",
    "                                                 criterion='squared_error', \n",
    "                                                 max_depth=None, \n",
    "                                                 min_samples_split=2, \n",
    "                                                 min_samples_leaf=1, \n",
    "                                                 min_weight_fraction_leaf=0.0, \n",
    "                                                 max_features='auto', \n",
    "                                                 max_leaf_nodes=None, \n",
    "                                                 min_impurity_decrease=0.0, \n",
    "                                                 bootstrap=True, \n",
    "                                                 oob_score=False, \n",
    "                                                 n_jobs=None, \n",
    "                                                 random_state=None, \n",
    "                                                 verbose=0, \n",
    "                                                 warm_start=False, \n",
    "                                                 ccp_alpha=0.0, \n",
    "                                                 max_samples=None)\n",
    "\"\"\""
   ]
  },
  {
   "cell_type": "code",
   "execution_count": null,
   "metadata": {},
   "outputs": [],
   "source": []
  }
 ],
 "metadata": {
  "kernelspec": {
   "display_name": "Python 3 (ipykernel)",
   "language": "python",
   "name": "python3"
  },
  "language_info": {
   "codemirror_mode": {
    "name": "ipython",
    "version": 3
   },
   "file_extension": ".py",
   "mimetype": "text/x-python",
   "name": "python",
   "nbconvert_exporter": "python",
   "pygments_lexer": "ipython3",
   "version": "3.9.7"
  }
 },
 "nbformat": 4,
 "nbformat_minor": 1
}
