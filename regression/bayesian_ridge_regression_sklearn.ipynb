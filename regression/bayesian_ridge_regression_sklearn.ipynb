{
 "cells": [
  {
   "cell_type": "markdown",
   "metadata": {},
   "source": [
    "# Bayesian Ridge Regression Example"
   ]
  },
  {
   "cell_type": "code",
   "execution_count": 1,
   "metadata": {},
   "outputs": [],
   "source": [
    "## Importing Libraries\n",
    "\n",
    "from sklearn.linear_model import BayesianRidge\n",
    "from sklearn import datasets"
   ]
  },
  {
   "cell_type": "code",
   "execution_count": 3,
   "metadata": {},
   "outputs": [],
   "source": [
    "## Loading Dataset\n",
    "\n",
    "# Load the diabetes dataset\n",
    "diabetes_X, diabetes_y = datasets.load_diabetes(return_X_y=True)"
   ]
  },
  {
   "cell_type": "code",
   "execution_count": 4,
   "metadata": {},
   "outputs": [],
   "source": [
    "## Model Building\n",
    "\n",
    "# Split the data into training/testing sets\n",
    "diabetes_X_train = diabetes_X[:-20]\n",
    "diabetes_X_test = diabetes_X[-20:]\n",
    "\n",
    "# Split the targets into training/testing sets\n",
    "diabetes_y_train = diabetes_y[:-20]\n",
    "diabetes_y_test = diabetes_y[-20:]\n",
    "\n",
    "# Create BayesianRidge regression object with default parameter values\n",
    "bayesian_ridge_regression = BayesianRidge()\n",
    "\n",
    "# Train the model using the training sets\n",
    "bayesian_ridge_regression.fit(diabetes_X_train, diabetes_y_train)\n",
    "\n",
    "# Make predictions using the testing set\n",
    "diabetes_y_pred = bayesian_ridge_regression.predict(diabetes_X_test)"
   ]
  },
  {
   "cell_type": "code",
   "execution_count": 5,
   "metadata": {},
   "outputs": [],
   "source": [
    "# BayesianRidge Regression object with default parameter values- detailed\n",
    "\n",
    "\"\"\"\n",
    "bayesian_ridge_regression = BayesianRidge(n_iter=300,\n",
    "                                          tol=0.001,\n",
    "                                          alpha_1=0.000001,\n",
    "                                          alpha_2=0.000001,\n",
    "                                          lambda_1=0.000001,\n",
    "                                          lambda_2=0.000001,\n",
    "                                          alpha_init=None,\n",
    "                                          lambda_init=None,\n",
    "                                          compute_score=False,\n",
    "                                          fit_intercept=True,\n",
    "                                          copy_X=True,\n",
    "                                          verbose=False\n",
    "                                          )\n",
    "\"\"\""
   ]
  }
 ],
 "metadata": {
  "kernelspec": {
   "display_name": "Python 3 (ipykernel)",
   "language": "python",
   "name": "python3"
  },
  "language_info": {
   "codemirror_mode": {
    "name": "ipython",
    "version": 3
   },
   "file_extension": ".py",
   "mimetype": "text/x-python",
   "name": "python",
   "nbconvert_exporter": "python",
   "pygments_lexer": "ipython3",
   "version": "3.9.7"
  }
 },
 "nbformat": 4,
 "nbformat_minor": 1
}
