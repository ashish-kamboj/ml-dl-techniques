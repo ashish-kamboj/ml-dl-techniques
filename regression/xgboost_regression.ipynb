{
 "cells": [
  {
   "cell_type": "markdown",
   "metadata": {},
   "source": [
    "# XGBoost Regression Example"
   ]
  },
  {
   "cell_type": "code",
   "execution_count": 4,
   "metadata": {},
   "outputs": [],
   "source": [
    "## Install Library\n",
    "\n",
    "!pip install xgboost"
   ]
  },
  {
   "cell_type": "code",
   "execution_count": 2,
   "metadata": {},
   "outputs": [
    {
     "name": "stdout",
     "output_type": "stream",
     "text": [
      "1.5.2\n"
     ]
    }
   ],
   "source": [
    "## Checking xgboost version\n",
    "\n",
    "import xgboost\n",
    "print(xgboost.__version__)"
   ]
  },
  {
   "cell_type": "code",
   "execution_count": 3,
   "metadata": {},
   "outputs": [],
   "source": [
    "## Importing Libraries\n",
    "\n",
    "from xgboost import XGBRegressor\n",
    "from sklearn import datasets"
   ]
  },
  {
   "cell_type": "code",
   "execution_count": 6,
   "metadata": {},
   "outputs": [],
   "source": [
    "## Loading Dataset\n",
    "\n",
    "# Load the diabetes dataset\n",
    "diabetes_X, diabetes_y = datasets.load_diabetes(return_X_y=True)"
   ]
  },
  {
   "cell_type": "code",
   "execution_count": 15,
   "metadata": {},
   "outputs": [],
   "source": [
    "## Model Building\n",
    "\n",
    "# Split the data into training/testing sets\n",
    "diabetes_X_train = diabetes_X[:-20]\n",
    "diabetes_X_test = diabetes_X[-20:]\n",
    "\n",
    "# Split the targets into training/testing sets\n",
    "diabetes_y_train = diabetes_y[:-20]\n",
    "diabetes_y_test = diabetes_y[-20:]\n",
    "\n",
    "# Create XGBoost regression object with default parameter values\n",
    "xgboost_regression = XGBRegressor()\n",
    "\n",
    "# Train the model using the training sets\n",
    "xgboost_regression.fit(diabetes_X_train, diabetes_y_train)\n",
    "\n",
    "# Make predictions using the testing set\n",
    "diabetes_y_pred = xgboost_regression.predict(diabetes_X_test)"
   ]
  },
  {
   "cell_type": "code",
   "execution_count": 5,
   "metadata": {},
   "outputs": [],
   "source": [
    "# XGBoost Regression object with default parameter values- detailed\n",
    "\n",
    "\"\"\"\n",
    "xgboost_regression = XGBRegressor(booster='gbtree',\n",
    "                                  verbosity=1,\n",
    "                                  validate_parameters=False,\n",
    "                                  nthread [default to maximum number of threads available if not set],\n",
    "                                  disable_default_eval_metric=False\n",
    "                                  num_pbuffer [set automatically by XGBoost, no need to be set by user],\n",
    "                                  num_feature [set automatically by XGBoost, no need to be set by user],\n",
    "                                  eta=0.3,\n",
    "                                  gamma=0,\n",
    "                                  max_depth=6,\n",
    "                                  min_child_weight=1,\n",
    "                                  max_delta_step=0,\n",
    "                                  subsample=1,\n",
    "                                  sampling_method='uniform',\n",
    "                                  colsample_bytree=1,\n",
    "                                  colsample_bylevel=1,\n",
    "                                  colsample_bynode=1,\n",
    "                                  lambda=1,\n",
    "                                  alpha=0,\n",
    "                                  tree_method='auto',\n",
    "                                  sketch_eps=0.03,\n",
    "                                  scale_pos_weight=1,\n",
    "                                  updater='grow_colmaker,prune',\n",
    "                                  refresh_leaf=1,\n",
    "                                  process_type='default',\n",
    "                                  grow_policy='depthwise',\n",
    "                                  max_leaves=0,\n",
    "                                  max_bin=256,\n",
    "                                  predictor='auto',\n",
    "                                  num_parallel_tree=1,\n",
    "                                  single_precision_histogram='false',\n",
    "                                  sample_type='uniform',\n",
    "                                  normalize_type='tree',\n",
    "                                  rate_drop=0.0,\n",
    "                                  one_drop=0,\n",
    "                                  skip_drop=0.0)\n",
    "\n",
    "\"\"\""
   ]
  }
 ],
 "metadata": {
  "kernelspec": {
   "display_name": "Python 3 (ipykernel)",
   "language": "python",
   "name": "python3"
  },
  "language_info": {
   "codemirror_mode": {
    "name": "ipython",
    "version": 3
   },
   "file_extension": ".py",
   "mimetype": "text/x-python",
   "name": "python",
   "nbconvert_exporter": "python",
   "pygments_lexer": "ipython3",
   "version": "3.9.7"
  }
 },
 "nbformat": 4,
 "nbformat_minor": 1
}
