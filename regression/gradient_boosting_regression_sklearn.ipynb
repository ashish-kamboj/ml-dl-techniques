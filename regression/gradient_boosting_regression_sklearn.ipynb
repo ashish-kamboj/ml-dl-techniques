{
 "cells": [
  {
   "cell_type": "markdown",
   "metadata": {},
   "source": [
    "# Gradient Boosting Regression Example"
   ]
  },
  {
   "cell_type": "code",
   "execution_count": 1,
   "metadata": {},
   "outputs": [],
   "source": [
    "## Importing Libraries\n",
    "\n",
    "from sklearn.ensemble import GradientBoostingRegressor\n",
    "from sklearn import datasets"
   ]
  },
  {
   "cell_type": "code",
   "execution_count": 2,
   "metadata": {},
   "outputs": [],
   "source": [
    "## Loading Dataset\n",
    "\n",
    "# Load the diabetes dataset\n",
    "diabetes_X, diabetes_y = datasets.load_diabetes(return_X_y=True)"
   ]
  },
  {
   "cell_type": "code",
   "execution_count": 3,
   "metadata": {},
   "outputs": [],
   "source": [
    "## Model Building\n",
    "\n",
    "# Split the data into training/testing sets\n",
    "diabetes_X_train = diabetes_X[:-20]\n",
    "diabetes_X_test = diabetes_X[-20:]\n",
    "\n",
    "# Split the targets into training/testing sets\n",
    "diabetes_y_train = diabetes_y[:-20]\n",
    "diabetes_y_test = diabetes_y[-20:]\n",
    "\n",
    "# Create Gradient Boosting regression object with default parameter values\n",
    "gradient_boosting_regression = GradientBoostingRegressor()\n",
    "\n",
    "# Train the model using the training sets\n",
    "gradient_boosting_regression.fit(diabetes_X_train, diabetes_y_train)\n",
    "\n",
    "# Make predictions using the testing set\n",
    "diabetes_y_pred = gradient_boosting_regression.predict(diabetes_X_test)"
   ]
  },
  {
   "cell_type": "code",
   "execution_count": 5,
   "metadata": {},
   "outputs": [],
   "source": [
    "# Gradient Boosting Regression object with default parameter values- detailed\n",
    "\n",
    "\"\"\"\n",
    "gradient_boosting_regression = GradientBoostingRegressor(loss='squared_error', \n",
    "                                                         learning_rate=0.1, \n",
    "                                                         n_estimators=100, \n",
    "                                                         subsample=1.0, \n",
    "                                                         criterion='friedman_mse', \n",
    "                                                         min_samples_split=2, \n",
    "                                                         min_samples_leaf=1, \n",
    "                                                         min_weight_fraction_leaf=0.0, \n",
    "                                                         max_depth=3, \n",
    "                                                         min_impurity_decrease=0.0, \n",
    "                                                         init=None, \n",
    "                                                         random_state=None, \n",
    "                                                         max_features=None, \n",
    "                                                         alpha=0.9, \n",
    "                                                         verbose=0, \n",
    "                                                         max_leaf_nodes=None, \n",
    "                                                         warm_start=False, \n",
    "                                                         validation_fraction=0.1, \n",
    "                                                         n_iter_no_change=None, \n",
    "                                                         tol=0.0001, \n",
    "                                                         ccp_alpha=0.0)\n",
    "\"\"\""
   ]
  }
 ],
 "metadata": {
  "kernelspec": {
   "display_name": "Python 3 (ipykernel)",
   "language": "python",
   "name": "python3"
  },
  "language_info": {
   "codemirror_mode": {
    "name": "ipython",
    "version": 3
   },
   "file_extension": ".py",
   "mimetype": "text/x-python",
   "name": "python",
   "nbconvert_exporter": "python",
   "pygments_lexer": "ipython3",
   "version": "3.9.7"
  }
 },
 "nbformat": 4,
 "nbformat_minor": 1
}
