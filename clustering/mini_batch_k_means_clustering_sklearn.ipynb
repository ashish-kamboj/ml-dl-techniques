{
 "cells": [
  {
   "cell_type": "markdown",
   "id": "1f520e26",
   "metadata": {},
   "source": [
    "# MiniBatch KMeans Clustering Example"
   ]
  },
  {
   "cell_type": "code",
   "execution_count": 1,
   "id": "776dbe9d",
   "metadata": {},
   "outputs": [],
   "source": [
    "## Importing Libraries\n",
    "\n",
    "from sklearn.cluster import MiniBatchKMeans\n",
    "from matplotlib import pyplot as plt\n",
    "from sklearn.datasets import load_iris\n",
    "from sklearn.model_selection import train_test_split"
   ]
  },
  {
   "cell_type": "code",
   "execution_count": 2,
   "id": "a0d47f58",
   "metadata": {},
   "outputs": [],
   "source": [
    "## Loading Dataset\n",
    "\n",
    "# Load the Iris dataset (use y lables for verifying the results)\n",
    "iris_X, iris_y = load_iris(return_X_y=True)"
   ]
  },
  {
   "cell_type": "code",
   "execution_count": 3,
   "id": "3b2cf454",
   "metadata": {},
   "outputs": [],
   "source": [
    "## Model Building\n",
    "\n",
    "# Create MiniBatch KMeans object\n",
    "minibatch_kmeans = MiniBatchKMeans(n_clusters=3, \n",
    "                                   random_state=0,\n",
    "                                   batch_size=2048)\n",
    "\n",
    "# Fit clustering and return the cluster lables for dataset\n",
    "clusters = minibatch_kmeans.fit_predict(iris_X)\n",
    "\n",
    "# Get cluster labels for each data points in dataset\n",
    "labels = minibatch_kmeans.labels_\n",
    "\n",
    "# Get cluster centres\n",
    "centers = minibatch_kmeans.cluster_centers_"
   ]
  },
  {
   "cell_type": "markdown",
   "id": "832b0512",
   "metadata": {},
   "source": [
    "## Elbow Method for finding the optimal value of k"
   ]
  },
  {
   "cell_type": "code",
   "execution_count": 4,
   "id": "04853600",
   "metadata": {},
   "outputs": [
    {
     "data": {
      "image/png": "[encoded data removed]",
      "text/plain": [
       "<Figure size 432x288 with 1 Axes>"
      ]
     },
     "metadata": {
      "needs_background": "light"
     },
     "output_type": "display_data"
    }
   ],
   "source": [
    "# wcss - Within Cluster Sum of Squares (WCSS)\n",
    "wcss = []\n",
    "\n",
    "for i in range(1, 15):\n",
    "    minibatch_kmeans = MiniBatchKMeans(n_clusters=i, \n",
    "                                       init='k-means++', \n",
    "                                       max_iter=300, \n",
    "                                       n_init=10, \n",
    "                                       random_state=0,\n",
    "                                       batch_size=2048)\n",
    "    minibatch_kmeans.fit(iris_X)\n",
    "    wcss.append(minibatch_kmeans.inertia_)\n",
    "    \n",
    "plt.plot(range(1, 15), wcss)\n",
    "plt.title('Elbow Method')\n",
    "plt.xlabel('Number of clusters')\n",
    "plt.ylabel('WCSS')\n",
    "plt.show()"
   ]
  },
  {
   "cell_type": "markdown",
   "id": "da0e0473",
   "metadata": {},
   "source": [
    "## Finding the appropriate number of cluters(k) - Using silhouette coefficient"
   ]
  },
  {
   "cell_type": "code",
   "execution_count": 5,
   "id": "f0927cf0",
   "metadata": {},
   "outputs": [
    {
     "data": {
      "image/png": "[encoded data removed]",
      "text/plain": [
       "<Figure size 432x288 with 1 Axes>"
      ]
     },
     "metadata": {
      "needs_background": "light"
     },
     "output_type": "display_data"
    }
   ],
   "source": [
    "from sklearn.metrics import silhouette_score\n",
    "\n",
    "# A list holds the silhouette coefficients for each k\n",
    "silhouette_coefficients = []\n",
    "\n",
    "# Notice you start at 2 clusters for silhouette coefficient\n",
    "for k in range(2, 15):\n",
    "    minibatch_kmeans = MiniBatchKMeans(n_clusters=k, \n",
    "                                       init='k-means++', \n",
    "                                       max_iter=300, \n",
    "                                       n_init=10, \n",
    "                                       random_state=0,\n",
    "                                       batch_size=2048)\n",
    "    \n",
    "    minibatch_kmeans.fit(iris_X)\n",
    "    score = silhouette_score(iris_X, minibatch_kmeans.labels_)\n",
    "    silhouette_coefficients.append(score)\n",
    "    \n",
    "plt.plot(range(2, 15), silhouette_coefficients)\n",
    "plt.xticks(range(2, 15))\n",
    "plt.xlabel(\"Number of Clusters\")\n",
    "plt.ylabel(\"Silhouette Coefficient\")\n",
    "plt.show()"
   ]
  },
  {
   "cell_type": "code",
   "execution_count": null,
   "id": "8657d430",
   "metadata": {},
   "outputs": [],
   "source": [
    "# Mini Batch KMeans Clustering object with default parameter values- detailed\n",
    "\n",
    "\"\"\"\n",
    "minibatch_kmeans = MiniBatchKMeans(n_clusters=8, \n",
    "                                    init='k-means++', \n",
    "                                    max_iter=100, \n",
    "                                    batch_size=1024, \n",
    "                                    verbose=0, \n",
    "                                    compute_labels=True, \n",
    "                                    random_state=None, \n",
    "                                    tol=0.0, \n",
    "                                    max_no_improvement=10, \n",
    "                                    init_size=None, \n",
    "                                    n_init=3, \n",
    "                                    reassignment_ratio=0.01)\n",
    "\n",
    "\"\"\""
   ]
  }
 ],
 "metadata": {
  "kernelspec": {
   "display_name": "Python 3 (ipykernel)",
   "language": "python",
   "name": "python3"
  },
  "language_info": {
   "codemirror_mode": {
    "name": "ipython",
    "version": 3
   },
   "file_extension": ".py",
   "mimetype": "text/x-python",
   "name": "python",
   "nbconvert_exporter": "python",
   "pygments_lexer": "ipython3",
   "version": "3.9.7"
  }
 },
 "nbformat": 4,
 "nbformat_minor": 5
}
