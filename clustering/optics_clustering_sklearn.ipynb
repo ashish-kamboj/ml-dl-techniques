{
 "cells": [
  {
   "cell_type": "markdown",
   "id": "1f520e26",
   "metadata": {},
   "source": [
    "# OPTICS Clustering Example"
   ]
  },
  {
   "cell_type": "code",
   "execution_count": 6,
   "id": "776dbe9d",
   "metadata": {},
   "outputs": [],
   "source": [
    "## Importing Libraries\n",
    "\n",
    "from sklearn.cluster import OPTICS\n",
    "from sklearn.datasets import load_iris"
   ]
  },
  {
   "cell_type": "code",
   "execution_count": 7,
   "id": "a0d47f58",
   "metadata": {},
   "outputs": [],
   "source": [
    "## Loading Dataset\n",
    "\n",
    "# Load the Iris dataset (use y lables for verifying the results)\n",
    "iris_X, iris_y = load_iris(return_X_y=True)"
   ]
  },
  {
   "cell_type": "code",
   "execution_count": 8,
   "id": "66a30e05",
   "metadata": {},
   "outputs": [],
   "source": [
    "## Model Building\n",
    "\n",
    "# OPTICS clustering object\n",
    "optics_clus = OPTICS()\n",
    "\n",
    "# Fit clustering and return the cluster lables for dataset\n",
    "clusters = optics_clus.fit_predict(iris_X)\n",
    "\n",
    "# Get cluster labels for each data points in dataset\n",
    "labels = optics_clus.labels_"
   ]
  },
  {
   "cell_type": "code",
   "execution_count": null,
   "id": "8657d430",
   "metadata": {},
   "outputs": [],
   "source": [
    "# OPTICS Clustering object with default parameter values- detailed\n",
    "\n",
    "\"\"\"\n",
    "optics_clus = OPTICS(min_samples=5, \n",
    "                     max_eps=inf, \n",
    "                     metric='minkowski', \n",
    "                     p=2, \n",
    "                     metric_params=None, \n",
    "                     cluster_method='xi', \n",
    "                     eps=None, \n",
    "                     xi=0.05, \n",
    "                     predecessor_correction=True, \n",
    "                     min_cluster_size=None, \n",
    "                     algorithm='auto', \n",
    "                     leaf_size=30, \n",
    "                     memory=None, \n",
    "                     n_jobs=None)\n",
    "\n",
    "\"\"\""
   ]
  }
 ],
 "metadata": {
  "kernelspec": {
   "display_name": "Python 3 (ipykernel)",
   "language": "python",
   "name": "python3"
  },
  "language_info": {
   "codemirror_mode": {
    "name": "ipython",
    "version": 3
   },
   "file_extension": ".py",
   "mimetype": "text/x-python",
   "name": "python",
   "nbconvert_exporter": "python",
   "pygments_lexer": "ipython3",
   "version": "3.9.7"
  }
 },
 "nbformat": 4,
 "nbformat_minor": 5
}
