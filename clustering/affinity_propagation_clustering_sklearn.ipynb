{
 "cells": [
  {
   "cell_type": "markdown",
   "id": "1f520e26",
   "metadata": {},
   "source": [
    "# Affinity Propagation Clustering Example"
   ]
  },
  {
   "cell_type": "code",
   "execution_count": 1,
   "id": "776dbe9d",
   "metadata": {},
   "outputs": [],
   "source": [
    "## Importing Libraries\n",
    "\n",
    "from sklearn.datasets import load_iris\n",
    "from sklearn.cluster import AffinityPropagation\n",
    "from sklearn.model_selection import train_test_split"
   ]
  },
  {
   "cell_type": "code",
   "execution_count": 2,
   "id": "a0d47f58",
   "metadata": {},
   "outputs": [],
   "source": [
    "## Loading Dataset\n",
    "\n",
    "# Load the Iris dataset (use y lables for verifying the results)\n",
    "iris_X, iris_y = load_iris(return_X_y=True)"
   ]
  },
  {
   "cell_type": "code",
   "execution_count": 7,
   "id": "66a30e05",
   "metadata": {},
   "outputs": [],
   "source": [
    "## Model Building\n",
    "\n",
    "# Create Affinity Propagation clustering object\n",
    "affinity_propagation = AffinityPropagation(random_state=50)\n",
    "\n",
    "# Fit clustering and return the cluster lables for dataset\n",
    "clusters = affinity_propagation.fit_predict(iris_X)\n",
    "\n",
    "# Get cluster labels for each data points in dataset\n",
    "labels = affinity_propagation.labels_\n",
    "\n",
    "# Get cluster centres\n",
    "centers = affinity_propagation.cluster_centers_"
   ]
  },
  {
   "cell_type": "code",
   "execution_count": null,
   "id": "8657d430",
   "metadata": {},
   "outputs": [],
   "source": [
    "# Affinity Propagation Clustering object with default parameter values- detailed\n",
    "\n",
    "\"\"\"\n",
    "affinity_propagation = AffinityPropagation(damping=0.5, \n",
    "                                max_iter=200, \n",
    "                                convergence_iter=15, \n",
    "                                copy=True, \n",
    "                                preference=None, \n",
    "                                affinity='euclidean', \n",
    "                                verbose=False, \n",
    "                                random_state=None)\n",
    "\n",
    "\"\"\""
   ]
  }
 ],
 "metadata": {
  "kernelspec": {
   "display_name": "Python 3 (ipykernel)",
   "language": "python",
   "name": "python3"
  },
  "language_info": {
   "codemirror_mode": {
    "name": "ipython",
    "version": 3
   },
   "file_extension": ".py",
   "mimetype": "text/x-python",
   "name": "python",
   "nbconvert_exporter": "python",
   "pygments_lexer": "ipython3",
   "version": "3.9.7"
  }
 },
 "nbformat": 4,
 "nbformat_minor": 5
}
