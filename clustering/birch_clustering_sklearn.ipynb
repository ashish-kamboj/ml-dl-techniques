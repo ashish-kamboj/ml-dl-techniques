{
 "cells": [
  {
   "cell_type": "markdown",
   "id": "1f520e26",
   "metadata": {},
   "source": [
    "# BIRCH Clustering Example"
   ]
  },
  {
   "cell_type": "code",
   "execution_count": 6,
   "id": "776dbe9d",
   "metadata": {},
   "outputs": [],
   "source": [
    "## Importing Libraries\n",
    "\n",
    "from sklearn.cluster import Birch\n",
    "from sklearn.datasets import load_iris"
   ]
  },
  {
   "cell_type": "code",
   "execution_count": 7,
   "id": "a0d47f58",
   "metadata": {},
   "outputs": [],
   "source": [
    "## Loading Dataset\n",
    "\n",
    "# Load the Iris dataset (use y lables for verifying the results)\n",
    "iris_X, iris_y = load_iris(return_X_y=True)"
   ]
  },
  {
   "cell_type": "code",
   "execution_count": 8,
   "id": "66a30e05",
   "metadata": {},
   "outputs": [],
   "source": [
    "## Model Building\n",
    "\n",
    "# BIRCH clustering object\n",
    "birch_clus = Birch()\n",
    "\n",
    "# Fit clustering and return the cluster lables for dataset\n",
    "clusters = birch_clus.fit_predict(iris_X)\n",
    "\n",
    "# Get cluster labels for each data points in dataset\n",
    "labels = birch_clus.labels_"
   ]
  },
  {
   "cell_type": "code",
   "execution_count": null,
   "id": "8657d430",
   "metadata": {},
   "outputs": [],
   "source": [
    "# BIRCH Clustering object with default parameter values- detailed\n",
    "\n",
    "\"\"\"\n",
    "birch_clus = Birch(threshold=0.5, \n",
    "                    branching_factor=50, \n",
    "                    n_clusters=3, \n",
    "                    compute_labels=True, \n",
    "                    copy=True)\n",
    "\n",
    "\"\"\""
   ]
  }
 ],
 "metadata": {
  "kernelspec": {
   "display_name": "Python 3 (ipykernel)",
   "language": "python",
   "name": "python3"
  },
  "language_info": {
   "codemirror_mode": {
    "name": "ipython",
    "version": 3
   },
   "file_extension": ".py",
   "mimetype": "text/x-python",
   "name": "python",
   "nbconvert_exporter": "python",
   "pygments_lexer": "ipython3",
   "version": "3.9.7"
  }
 },
 "nbformat": 4,
 "nbformat_minor": 5
}
