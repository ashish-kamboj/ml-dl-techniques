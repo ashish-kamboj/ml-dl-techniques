{
 "cells": [
  {
   "cell_type": "code",
   "execution_count": 1,
   "id": "a5538e07",
   "metadata": {
    "ExecuteTime": {
     "end_time": "2021-10-12T09:31:04.202267Z",
     "start_time": "2021-10-12T09:31:04.171655Z"
    }
   },
   "outputs": [
    {
     "data": {
      "text/html": [
       "<style>.container { width:100% !important; }</style>"
      ],
      "text/plain": [
       "<IPython.core.display.HTML object>"
      ]
     },
     "metadata": {},
     "output_type": "display_data"
    }
   ],
   "source": [
    "from IPython.core.display import display, HTML\n",
    "display(HTML(\"<style>.container { width:100% !important; }</style>\"))"
   ]
  },
  {
   "cell_type": "markdown",
   "id": "fdb80cb1",
   "metadata": {},
   "source": [
    "## Importing Libraries"
   ]
  },
  {
   "cell_type": "code",
   "execution_count": 2,
   "id": "b9ebab1f",
   "metadata": {
    "ExecuteTime": {
     "end_time": "2021-10-12T09:31:26.711460Z",
     "start_time": "2021-10-12T09:31:24.660595Z"
    }
   },
   "outputs": [],
   "source": [
    "## Loading Libraries\n",
    "\n",
    "import sqlite3\n",
    "from sqlite3 import Error\n",
    "import pandas as pd"
   ]
  },
  {
   "cell_type": "markdown",
   "id": "87c6b7e0",
   "metadata": {},
   "source": [
    "## Creating database connection"
   ]
  },
  {
   "cell_type": "code",
   "execution_count": 296,
   "id": "da84436c",
   "metadata": {
    "ExecuteTime": {
     "end_time": "2021-09-03T16:42:21.705884Z",
     "start_time": "2021-09-03T16:42:21.702145Z"
    }
   },
   "outputs": [],
   "source": [
    "## Function for creating database connection\n",
    "def create_connection(db_file):\n",
    "    \"\"\" \n",
    "    create a database connection to the SQLite database specified by the db_file\n",
    "    \n",
    "    param db_file: database file\n",
    "    return: Connection object or None\n",
    "    \n",
    "    \"\"\"\n",
    "    conn = None\n",
    "    try:\n",
    "        conn = sqlite3.connect(db_file)\n",
    "    except Error as e:\n",
    "        print(e)\n",
    "\n",
    "    return conn\n",
    "\n",
    "\n",
    "database = \"funnel.db\"\n",
    "conn = create_connection(database)"
   ]
  },
  {
   "cell_type": "markdown",
   "id": "1379f2a6",
   "metadata": {},
   "source": [
    "## Loading data from database to dataframe"
   ]
  },
  {
   "cell_type": "code",
   "execution_count": 297,
   "id": "ae9a1a27",
   "metadata": {
    "ExecuteTime": {
     "end_time": "2021-09-03T16:42:56.704597Z",
     "start_time": "2021-09-03T16:42:56.569391Z"
    }
   },
   "outputs": [],
   "source": [
    "query_1 = \"SELECT * FROM profile_applications\"\n",
    "profile_applications = pd.read_sql(query_1, conn)\n",
    "\n",
    "query_2 = \"SELECT * FROM profile_enrollments\"\n",
    "profile_enrollments = pd.read_sql(query_2, conn)\n",
    "\n",
    "query_3 = \"SELECT * FROM student_profiles\"\n",
    "student_profiles = pd.read_sql(query_3, conn)"
   ]
  },
  {
   "cell_type": "code",
   "execution_count": 298,
   "id": "396ad6af",
   "metadata": {
    "ExecuteTime": {
     "end_time": "2021-09-03T16:42:57.177700Z",
     "start_time": "2021-09-03T16:42:57.171247Z"
    }
   },
   "outputs": [
    {
     "name": "stdout",
     "output_type": "stream",
     "text": [
      "(3207, 3)\n",
      "(1877, 3)\n",
      "(36341, 9)\n"
     ]
    }
   ],
   "source": [
    "print(profile_applications.shape)\n",
    "print(profile_enrollments.shape)\n",
    "print(student_profiles.shape)"
   ]
  },
  {
   "cell_type": "code",
   "execution_count": 12,
   "id": "a3a8fb30",
   "metadata": {
    "ExecuteTime": {
     "end_time": "2021-09-02T16:00:19.067430Z",
     "start_time": "2021-09-02T16:00:19.056327Z"
    }
   },
   "outputs": [
    {
     "data": {
      "text/html": [
       "<div>\n",
       "<style scoped>\n",
       "    .dataframe tbody tr th:only-of-type {\n",
       "        vertical-align: middle;\n",
       "    }\n",
       "\n",
       "    .dataframe tbody tr th {\n",
       "        vertical-align: top;\n",
       "    }\n",
       "\n",
       "    .dataframe thead th {\n",
       "        text-align: right;\n",
       "    }\n",
       "</style>\n",
       "<table border=\"1\" class=\"dataframe\">\n",
       "  <thead>\n",
       "    <tr style=\"text-align: right;\">\n",
       "      <th></th>\n",
       "      <th>profile_id</th>\n",
       "      <th>school</th>\n",
       "      <th>course_name</th>\n",
       "      <th>country</th>\n",
       "      <th>os_name</th>\n",
       "      <th>experience</th>\n",
       "      <th>lead_initiated</th>\n",
       "      <th>undergrad_grade_points</th>\n",
       "      <th>is_test</th>\n",
       "    </tr>\n",
       "  </thead>\n",
       "  <tbody>\n",
       "    <tr>\n",
       "      <th>0</th>\n",
       "      <td>757350438217</td>\n",
       "      <td>School B</td>\n",
       "      <td>Marketing</td>\n",
       "      <td>Rohan</td>\n",
       "      <td></td>\n",
       "      <td>&lt; 5 years</td>\n",
       "      <td>false</td>\n",
       "      <td>89</td>\n",
       "      <td>false</td>\n",
       "    </tr>\n",
       "    <tr>\n",
       "      <th>1</th>\n",
       "      <td>173847491575</td>\n",
       "      <td>School B</td>\n",
       "      <td>VR</td>\n",
       "      <td>Arcadia</td>\n",
       "      <td>android</td>\n",
       "      <td>5-10 Years</td>\n",
       "      <td>false</td>\n",
       "      <td>98</td>\n",
       "      <td>false</td>\n",
       "    </tr>\n",
       "    <tr>\n",
       "      <th>2</th>\n",
       "      <td>875719666990</td>\n",
       "      <td>School A</td>\n",
       "      <td>Design</td>\n",
       "      <td>Kyrat</td>\n",
       "      <td></td>\n",
       "      <td>5-10 Years</td>\n",
       "      <td>false</td>\n",
       "      <td>88</td>\n",
       "      <td>true</td>\n",
       "    </tr>\n",
       "    <tr>\n",
       "      <th>3</th>\n",
       "      <td>437402894223</td>\n",
       "      <td>School A</td>\n",
       "      <td>Design</td>\n",
       "      <td>Rohan</td>\n",
       "      <td></td>\n",
       "      <td>5-10 Years</td>\n",
       "      <td>false</td>\n",
       "      <td>89</td>\n",
       "      <td>false</td>\n",
       "    </tr>\n",
       "    <tr>\n",
       "      <th>4</th>\n",
       "      <td>186283660042</td>\n",
       "      <td>School B</td>\n",
       "      <td>Design</td>\n",
       "      <td>Hyrule</td>\n",
       "      <td></td>\n",
       "      <td>5-10 Years</td>\n",
       "      <td>false</td>\n",
       "      <td>90</td>\n",
       "      <td>false</td>\n",
       "    </tr>\n",
       "  </tbody>\n",
       "</table>\n",
       "</div>"
      ],
      "text/plain": [
       "     profile_id    school course_name  country  os_name  experience  \\\n",
       "0  757350438217  School B   Marketing    Rohan            < 5 years   \n",
       "1  173847491575  School B          VR  Arcadia  android  5-10 Years   \n",
       "2  875719666990  School A      Design    Kyrat           5-10 Years   \n",
       "3  437402894223  School A      Design    Rohan           5-10 Years   \n",
       "4  186283660042  School B      Design   Hyrule           5-10 Years   \n",
       "\n",
       "  lead_initiated undergrad_grade_points is_test  \n",
       "0          false                     89   false  \n",
       "1          false                     98   false  \n",
       "2          false                     88    true  \n",
       "3          false                     89   false  \n",
       "4          false                     90   false  "
      ]
     },
     "execution_count": 12,
     "metadata": {},
     "output_type": "execute_result"
    }
   ],
   "source": [
    "student_profiles.head()"
   ]
  }
 ],
 "metadata": {
  "kernelspec": {
   "display_name": "Python 3",
   "language": "python",
   "name": "python3"
  },
  "language_info": {
   "codemirror_mode": {
    "name": "ipython",
    "version": 3
   },
   "file_extension": ".py",
   "mimetype": "text/x-python",
   "name": "python",
   "nbconvert_exporter": "python",
   "pygments_lexer": "ipython3",
   "version": "3.8.10"
  }
 },
 "nbformat": 4,
 "nbformat_minor": 5
}
