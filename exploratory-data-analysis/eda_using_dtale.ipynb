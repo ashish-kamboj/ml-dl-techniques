{
 "cells": [
  {
   "cell_type": "code",
   "execution_count": 2,
   "id": "203390fa",
   "metadata": {},
   "outputs": [],
   "source": [
    "## Installing library\n",
    "\n",
    "!pip install dtale"
   ]
  },
  {
   "cell_type": "code",
   "execution_count": 2,
   "id": "d0fa9c24",
   "metadata": {},
   "outputs": [],
   "source": [
    "## Importing libraries\n",
    "\n",
    "import pandas as pd\n",
    "import numpy as np\n",
    "import dtale"
   ]
  },
  {
   "cell_type": "code",
   "execution_count": 3,
   "id": "f24eff47",
   "metadata": {},
   "outputs": [],
   "source": [
    "## Loading Data\n",
    "\n",
    "# Data URL from UCI repository\n",
    "auto_data_url = 'https://archive.ics.uci.edu/ml/machine-learning-databases/autos/imports-85.data'\n",
    "\n",
    "# List of columns\n",
    "column_names = ['symboling', 'normalized-losses', 'make', 'fuel-type', 'aspiration', 'num-of-doors', 'body-style', \n",
    "                'drive-wheels', 'engine-location', 'wheel-base', 'length', 'width', 'height', 'curb-weight', \n",
    "                'engine-type', 'num-of-cylinders', 'engine-size', 'fuel-system', 'bore', 'stroke', 'compression-ratio', \n",
    "                'horsepower', 'peak-rpm', 'city-mpg', 'highway-mpg', 'price']\n",
    "\n",
    "# Reading data as pandas dataframe\n",
    "df = pd.read_csv(auto_data_url, names=column_names)\n",
    "df = df.replace({'?': np.nan})"
   ]
  },
  {
   "cell_type": "code",
   "execution_count": 4,
   "id": "2215c702",
   "metadata": {},
   "outputs": [],
   "source": [
    "## Converting columns to Numeric type\n",
    "numeric_cols = ['normalized-losses', 'engine-size', 'horsepower', 'peak-rpm', 'bore', 'stroke', 'price']\n",
    "df[numeric_cols] = df[numeric_cols].apply(pd.to_numeric, errors='coerce', axis=1)"
   ]
  },
  {
   "cell_type": "code",
   "execution_count": 5,
   "id": "d6e59ff2",
   "metadata": {
    "scrolled": true
   },
   "outputs": [
    {
     "data": {
      "text/html": [
       "\n",
       "        <iframe\n",
       "            width=\"100%\"\n",
       "            height=\"475\"\n",
       "            src=\"http://TIGER01743:40000/dtale/iframe/1\"\n",
       "            frameborder=\"0\"\n",
       "            allowfullscreen\n",
       "            \n",
       "        ></iframe>\n",
       "        "
      ],
      "text/plain": [
       "<IPython.lib.display.IFrame at 0x15ae54bdbe0>"
      ]
     },
     "metadata": {},
     "output_type": "display_data"
    },
    {
     "data": {
      "text/plain": []
     },
     "execution_count": 5,
     "metadata": {},
     "output_type": "execute_result"
    }
   ],
   "source": [
    "dtale.show(df)"
   ]
  },
  {
   "cell_type": "code",
   "execution_count": 7,
   "id": "6ee12991",
   "metadata": {},
   "outputs": [],
   "source": [
    "## Showing the data on browser (or Perform EDA and data manipulation)\n",
    "dtale.show(df).open_browser()"
   ]
  }
 ],
 "metadata": {
  "kernelspec": {
   "display_name": "Python 3 (ipykernel)",
   "language": "python",
   "name": "python3"
  },
  "language_info": {
   "codemirror_mode": {
    "name": "ipython",
    "version": 3
   },
   "file_extension": ".py",
   "mimetype": "text/x-python",
   "name": "python",
   "nbconvert_exporter": "python",
   "pygments_lexer": "ipython3",
   "version": "3.9.7"
  }
 },
 "nbformat": 4,
 "nbformat_minor": 5
}
