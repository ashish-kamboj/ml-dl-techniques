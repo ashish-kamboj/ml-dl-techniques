{
 "cells": [
  {
   "cell_type": "markdown",
   "metadata": {},
   "source": [
    "# CatBoost Classification Example"
   ]
  },
  {
   "cell_type": "code",
   "execution_count": 2,
   "metadata": {},
   "outputs": [],
   "source": [
    "## Install Library\n",
    "\n",
    "!pip install catboost"
   ]
  },
  {
   "cell_type": "code",
   "execution_count": 1,
   "metadata": {},
   "outputs": [
    {
     "name": "stdout",
     "output_type": "stream",
     "text": [
      "1.0.4\n"
     ]
    }
   ],
   "source": [
    "## Checking catboost version\n",
    "\n",
    "import catboost\n",
    "print(catboost.__version__)"
   ]
  },
  {
   "cell_type": "code",
   "execution_count": 2,
   "metadata": {},
   "outputs": [],
   "source": [
    "## Importing Libraries\n",
    "\n",
    "from catboost import CatBoostClassifier\n",
    "from sklearn.datasets import load_breast_cancer\n",
    "from sklearn.model_selection import train_test_split"
   ]
  },
  {
   "cell_type": "code",
   "execution_count": 3,
   "metadata": {},
   "outputs": [],
   "source": [
    "## Loading Dataset\n",
    "\n",
    "# Load the Breast cancer dataset\n",
    "breast_cancer_X, breast_cancer_y = load_breast_cancer(return_X_y=True)"
   ]
  },
  {
   "cell_type": "code",
   "execution_count": 8,
   "metadata": {},
   "outputs": [],
   "source": [
    "## Model Building\n",
    "\n",
    "# # Split the data into training/testing sets\n",
    "breast_cancer_X_train, breast_cancer_X_test, breast_cancer_y_train, breast_cancer_y_test = train_test_split(\n",
    "                                                                            breast_cancer_X, breast_cancer_y, test_size=0.10, \n",
    "                                                                            random_state=50, stratify=breast_cancer_y)\n",
    "\n",
    "# Create CatBoost classification object with default parameter values\n",
    "catboost_clf = CatBoostClassifier(verbose=0)\n",
    "\n",
    "# Train the model using the training sets\n",
    "catboost_clf.fit(breast_cancer_X_train, breast_cancer_y_train)\n",
    "\n",
    "# Make predictions using the testing set\n",
    "breast_cancer_y_pred = catboost_clf.predict(breast_cancer_X_test)\n",
    "\n",
    "# Getting Probability estimates for testing set\n",
    "breast_cancer_y_pred_prob = catboost_clf.predict_proba(breast_cancer_X_test)"
   ]
  },
  {
   "cell_type": "code",
   "execution_count": 9,
   "metadata": {},
   "outputs": [],
   "source": [
    "# CatBoost classification object with default parameter values- detailed\n",
    "\n",
    "\"\"\"\n",
    "catboost_clf = CatBoostClassifier(iterations=None,\n",
    "                                 learning_rate=None,\n",
    "                                 depth=None,\n",
    "                                 l2_leaf_reg=None,\n",
    "                                 model_size_reg=None,\n",
    "                                 rsm=None,\n",
    "                                 loss_function=None,\n",
    "                                 border_count=None,\n",
    "                                 feature_border_type=None,\n",
    "                                 per_float_feature_quantization=None,                         \n",
    "                                 input_borders=None,\n",
    "                                 output_borders=None,\n",
    "                                 fold_permutation_block=None,\n",
    "                                 od_pval=None,\n",
    "                                 od_wait=None,\n",
    "                                 od_type=None,\n",
    "                                 nan_mode=None,\n",
    "                                 counter_calc_method=None,\n",
    "                                 leaf_estimation_iterations=None,\n",
    "                                 leaf_estimation_method=None,\n",
    "                                 thread_count=None,\n",
    "                                 random_seed=None,\n",
    "                                 use_best_model=None,\n",
    "                                 verbose=None,\n",
    "                                 logging_level=None,\n",
    "                                 metric_period=None,\n",
    "                                 ctr_leaf_count_limit=None,\n",
    "                                 store_all_simple_ctr=None,\n",
    "                                 max_ctr_complexity=None,\n",
    "                                 has_time=None,\n",
    "                                 allow_const_label=None,\n",
    "                                 classes_count=None,\n",
    "                                 class_weights=None,\n",
    "                                 one_hot_max_size=None,\n",
    "                                 random_strength=None,\n",
    "                                 name=None,\n",
    "                                 ignored_features=None,\n",
    "                                 train_dir=None,\n",
    "                                 custom_loss=None,\n",
    "                                 custom_metric=None,\n",
    "                                 eval_metric=None,\n",
    "                                 bagging_temperature=None,\n",
    "                                 save_snapshot=None,\n",
    "                                 snapshot_file=None,\n",
    "                                 snapshot_interval=None,\n",
    "                                 fold_len_multiplier=None,\n",
    "                                 used_ram_limit=None,\n",
    "                                 gpu_ram_part=None,\n",
    "                                 allow_writing_files=None,\n",
    "                                 final_ctr_computation_mode=None,\n",
    "                                 approx_on_full_history=None,\n",
    "                                 boosting_type=None,\n",
    "                                 simple_ctr=None,\n",
    "                                 combinations_ctr=None,\n",
    "                                 per_feature_ctr=None,\n",
    "                                 task_type=None,\n",
    "                                 device_config=None,\n",
    "                                 devices=None,\n",
    "                                 bootstrap_type=None,\n",
    "                                 subsample=None,\n",
    "                                 sampling_unit=None,\n",
    "                                 dev_score_calc_obj_block_size=None,\n",
    "                                 max_depth=None,\n",
    "                                 n_estimators=None,\n",
    "                                 num_boost_round=None,\n",
    "                                 num_trees=None,\n",
    "                                 colsample_bylevel=None,\n",
    "                                 random_state=None,\n",
    "                                 reg_lambda=None,\n",
    "                                 objective=None,\n",
    "                                 eta=None,\n",
    "                                 max_bin=None,\n",
    "                                 scale_pos_weight=None,\n",
    "                                 gpu_cat_features_storage=None,\n",
    "                                 data_partition=None\n",
    "                                 metadata=None,\n",
    "                                 early_stopping_rounds=None,\n",
    "                                 cat_features=None,\n",
    "                                 grow_policy=None,\n",
    "                                 min_data_in_leaf=None,\n",
    "                                 min_child_samples=None,\n",
    "                                 max_leaves=None,\n",
    "                                 num_leaves=None,\n",
    "                                 score_function=None,\n",
    "                                 leaf_estimation_backtracking=None,\n",
    "                                 ctr_history_unit=None,\n",
    "                                 monotone_constraints=None,\n",
    "                                 feature_weights=None,\n",
    "                                 penalties_coefficient=None,\n",
    "                                 first_feature_use_penalties=None,\n",
    "                                 model_shrink_rate=None,\n",
    "                                 model_shrink_mode=None,\n",
    "                                 langevin=None,\n",
    "                                 diffusion_temperature=None,\n",
    "                                 posterior_sampling=None,\n",
    "                                 boost_from_average=None,\n",
    "                                 text_features=None,\n",
    "                                 tokenizers=None,\n",
    "                                 dictionaries=None,\n",
    "                                 feature_calcers=None,\n",
    "                                 text_processing=None)\n",
    "\"\"\""
   ]
  }
 ],
 "metadata": {
  "kernelspec": {
   "display_name": "Python 3 (ipykernel)",
   "language": "python",
   "name": "python3"
  },
  "language_info": {
   "codemirror_mode": {
    "name": "ipython",
    "version": 3
   },
   "file_extension": ".py",
   "mimetype": "text/x-python",
   "name": "python",
   "nbconvert_exporter": "python",
   "pygments_lexer": "ipython3",
   "version": "3.9.7"
  }
 },
 "nbformat": 4,
 "nbformat_minor": 1
}
