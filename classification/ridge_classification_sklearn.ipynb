{
 "cells": [
  {
   "cell_type": "markdown",
   "metadata": {},
   "source": [
    "# Ridge Classification Example"
   ]
  },
  {
   "cell_type": "code",
   "execution_count": 1,
   "metadata": {},
   "outputs": [],
   "source": [
    "## Importing Libraries\n",
    "\n",
    "from sklearn.datasets import load_breast_cancer\n",
    "from sklearn.linear_model import RidgeClassifier\n",
    "from sklearn.model_selection import train_test_split"
   ]
  },
  {
   "cell_type": "code",
   "execution_count": 2,
   "metadata": {},
   "outputs": [],
   "source": [
    "## Loading Dataset\n",
    "\n",
    "# Load the Breast cancer dataset\n",
    "breast_cancer_X, breast_cancer_y = load_breast_cancer(return_X_y=True)"
   ]
  },
  {
   "cell_type": "code",
   "execution_count": 3,
   "metadata": {},
   "outputs": [],
   "source": [
    "## Model Building\n",
    "\n",
    "# # Split the data into training/testing sets\n",
    "breast_cancer_X_train, breast_cancer_X_test, breast_cancer_y_train, breast_cancer_y_test = train_test_split(\n",
    "                                                                            breast_cancer_X, breast_cancer_y, test_size=0.10, \n",
    "                                                                            random_state=50, stratify=breast_cancer_y)\n",
    "\n",
    "# Create Ridge classification object with default parameter values\n",
    "ridge_clf = RidgeClassifier()\n",
    "\n",
    "# Train the model using the training sets\n",
    "ridge_clf.fit(breast_cancer_X_train, breast_cancer_y_train)\n",
    "\n",
    "# Make predictions using the testing set\n",
    "breast_cancer_y_pred = ridge_clf.predict(breast_cancer_X_test)"
   ]
  },
  {
   "cell_type": "code",
   "execution_count": 5,
   "metadata": {},
   "outputs": [],
   "source": [
    "# Ridge classification object with default parameter values- detailed\n",
    "\n",
    "\"\"\"\n",
    "ridge_clf = RidgeClassifier(alpha=1.0, \n",
    "                            fit_intercept=True, \n",
    "                            normalize='deprecated', \n",
    "                            copy_X=True, \n",
    "                            max_iter=None, \n",
    "                            tol=0.001, \n",
    "                            class_weight=None, \n",
    "                            solver='auto', \n",
    "                            positive=False, \n",
    "                            random_state=None)\n",
    "\"\"\""
   ]
  }
 ],
 "metadata": {
  "kernelspec": {
   "display_name": "Python 3 (ipykernel)",
   "language": "python",
   "name": "python3"
  },
  "language_info": {
   "codemirror_mode": {
    "name": "ipython",
    "version": 3
   },
   "file_extension": ".py",
   "mimetype": "text/x-python",
   "name": "python",
   "nbconvert_exporter": "python",
   "pygments_lexer": "ipython3",
   "version": "3.9.7"
  }
 },
 "nbformat": 4,
 "nbformat_minor": 1
}
