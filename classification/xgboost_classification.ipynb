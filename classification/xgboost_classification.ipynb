{
 "cells": [
  {
   "cell_type": "markdown",
   "metadata": {},
   "source": [
    "# XGBoost Classification Example"
   ]
  },
  {
   "cell_type": "code",
   "execution_count": 2,
   "metadata": {},
   "outputs": [],
   "source": [
    "## Install Library\n",
    "\n",
    "!pip install xgboost"
   ]
  },
  {
   "cell_type": "code",
   "execution_count": 3,
   "metadata": {},
   "outputs": [
    {
     "name": "stdout",
     "output_type": "stream",
     "text": [
      "1.5.2\n"
     ]
    }
   ],
   "source": [
    "## Checking xgboost version\n",
    "\n",
    "import xgboost\n",
    "print(xgboost.__version__)"
   ]
  },
  {
   "cell_type": "code",
   "execution_count": 9,
   "metadata": {},
   "outputs": [],
   "source": [
    "## Importing Libraries\n",
    "\n",
    "from xgboost import XGBClassifier\n",
    "from sklearn.datasets import load_breast_cancer\n",
    "from sklearn.model_selection import train_test_split"
   ]
  },
  {
   "cell_type": "code",
   "execution_count": 10,
   "metadata": {},
   "outputs": [],
   "source": [
    "## Loading Dataset\n",
    "\n",
    "# Load the Breast cancer dataset\n",
    "breast_cancer_X, breast_cancer_y = load_breast_cancer(return_X_y=True)"
   ]
  },
  {
   "cell_type": "code",
   "execution_count": 11,
   "metadata": {},
   "outputs": [
    {
     "name": "stdout",
     "output_type": "stream",
     "text": [
      "[18:29:29] WARNING: C:/Users/Administrator/workspace/xgboost-win64_release_1.5.1/src/learner.cc:1115: Starting in XGBoost 1.3.0, the default evaluation metric used with the objective 'binary:logistic' was changed from 'error' to 'logloss'. Explicitly set eval_metric if you'd like to restore the old behavior.\n"
     ]
    }
   ],
   "source": [
    "## Model Building\n",
    "\n",
    "# # Split the data into training/testing sets\n",
    "breast_cancer_X_train, breast_cancer_X_test, breast_cancer_y_train, breast_cancer_y_test = train_test_split(\n",
    "                                                                            breast_cancer_X, breast_cancer_y, test_size=0.10, \n",
    "                                                                            random_state=50, stratify=breast_cancer_y)\n",
    "\n",
    "# Create XGBoost classification object with default parameter values\n",
    "xgboost_clf = XGBClassifier(use_label_encoder=False)\n",
    "\n",
    "# Train the model using the training sets\n",
    "xgboost_clf.fit(breast_cancer_X_train, breast_cancer_y_train)\n",
    "\n",
    "# Make predictions using the testing set\n",
    "breast_cancer_y_pred = xgboost_clf.predict(breast_cancer_X_test)\n",
    "\n",
    "# Getting Probability estimates for testing set\n",
    "breast_cancer_y_pred_prob = xgboost_clf.predict_proba(breast_cancer_X_test)"
   ]
  },
  {
   "cell_type": "code",
   "execution_count": 5,
   "metadata": {},
   "outputs": [],
   "source": [
    "# XGBoost classification object with default parameter values- detailed\n",
    "\n",
    "\"\"\"\n",
    "xgboost_clf = XGBClassifier(base_score=0.5, \n",
    "                            booster='gbtree', \n",
    "                            colsample_bylevel=1,\n",
    "                            colsample_bynode=1, \n",
    "                            colsample_bytree=1, \n",
    "                            enable_categorical=False,\n",
    "                            gamma=0, gpu_id=-1, \n",
    "                            importance_type=None,\n",
    "                            interaction_constraints='', \n",
    "                            learning_rate=0.300000012,\n",
    "                            max_delta_step=0, \n",
    "                            max_depth=6, \n",
    "                            min_child_weight=1, \n",
    "                            missing=nan,\n",
    "                            monotone_constraints='()', \n",
    "                            n_estimators=100, \n",
    "                            n_jobs=8,\n",
    "                            num_parallel_tree=1, \n",
    "                            predictor='auto', \n",
    "                            random_state=0,\n",
    "                            reg_alpha=0, \n",
    "                            reg_lambda=1,\n",
    "                            scale_pos_weight=1, \n",
    "                            subsample=1,\n",
    "                            tree_method='exact', \n",
    "                            use_label_encoder=False,\n",
    "                            validate_parameters=1, \n",
    "                            verbosity=None)\n",
    "\"\"\""
   ]
  }
 ],
 "metadata": {
  "kernelspec": {
   "display_name": "Python 3 (ipykernel)",
   "language": "python",
   "name": "python3"
  },
  "language_info": {
   "codemirror_mode": {
    "name": "ipython",
    "version": 3
   },
   "file_extension": ".py",
   "mimetype": "text/x-python",
   "name": "python",
   "nbconvert_exporter": "python",
   "pygments_lexer": "ipython3",
   "version": "3.9.7"
  }
 },
 "nbformat": 4,
 "nbformat_minor": 1
}
