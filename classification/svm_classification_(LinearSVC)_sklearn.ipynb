{
 "cells": [
  {
   "cell_type": "markdown",
   "metadata": {},
   "source": [
    "# Support Vector Machine (LinearSVC) Classification Example"
   ]
  },
  {
   "cell_type": "code",
   "execution_count": 27,
   "metadata": {},
   "outputs": [],
   "source": [
    "## Importing Libraries\n",
    "\n",
    "from sklearn import svm\n",
    "from sklearn.datasets import load_iris\n",
    "from sklearn.model_selection import train_test_split"
   ]
  },
  {
   "cell_type": "code",
   "execution_count": 28,
   "metadata": {},
   "outputs": [],
   "source": [
    "## Loading Dataset\n",
    "\n",
    "# Load the Iris dataset\n",
    "iris_X, iris_y = load_iris(return_X_y=True)"
   ]
  },
  {
   "cell_type": "code",
   "execution_count": 29,
   "metadata": {},
   "outputs": [],
   "source": [
    "## Model Building\n",
    "\n",
    "# Split the data into training/testing sets\n",
    "iris_X_train, iris_X_test, iris_y_train, iris_y_test = train_test_split(iris_X, iris_y, test_size=0.10, \n",
    "                                                                        random_state=50, stratify=iris_y)\n",
    "\n",
    "# Create Support Vector Machine (LinearSVC) classification object with default parameter values\n",
    "linear_svc_clf = svm.LinearSVC(max_iter=10000)\n",
    "\n",
    "# Train the model using the training sets\n",
    "linear_svc_clf.fit(iris_X_train, iris_y_train)\n",
    "\n",
    "# Make predictions using the testing set\n",
    "iris_y_pred = linear_svc_clf.predict(iris_X_test)"
   ]
  },
  {
   "cell_type": "code",
   "execution_count": 5,
   "metadata": {},
   "outputs": [],
   "source": [
    "# Support Vector Machine (LinearSVC) classification object with default parameter values- detailed\n",
    "\n",
    "\"\"\"\n",
    "linear_svc_clf = svm.LinearSVC(penalty='l2', \n",
    "                                loss='squared_hinge', \n",
    "                                dual=True, \n",
    "                                tol=0.0001, \n",
    "                                C=1.0, \n",
    "                                multi_class='ovr', \n",
    "                                fit_intercept=True, \n",
    "                                intercept_scaling=1, \n",
    "                                class_weight=None, \n",
    "                                verbose=0, \n",
    "                                random_state=None, \n",
    "                                max_iter=1000)\n",
    "\n",
    "\"\"\""
   ]
  }
 ],
 "metadata": {
  "kernelspec": {
   "display_name": "Python 3 (ipykernel)",
   "language": "python",
   "name": "python3"
  },
  "language_info": {
   "codemirror_mode": {
    "name": "ipython",
    "version": 3
   },
   "file_extension": ".py",
   "mimetype": "text/x-python",
   "name": "python",
   "nbconvert_exporter": "python",
   "pygments_lexer": "ipython3",
   "version": "3.9.7"
  }
 },
 "nbformat": 4,
 "nbformat_minor": 1
}
