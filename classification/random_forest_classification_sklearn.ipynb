{
 "cells": [
  {
   "cell_type": "markdown",
   "metadata": {},
   "source": [
    "# Random Forest Classification Example"
   ]
  },
  {
   "cell_type": "code",
   "execution_count": 1,
   "metadata": {},
   "outputs": [],
   "source": [
    "## Importing Libraries\n",
    "\n",
    "from sklearn.datasets import load_breast_cancer\n",
    "from sklearn.ensemble import RandomForestClassifier\n",
    "from sklearn.model_selection import train_test_split"
   ]
  },
  {
   "cell_type": "code",
   "execution_count": 2,
   "metadata": {},
   "outputs": [],
   "source": [
    "## Loading Dataset\n",
    "\n",
    "# Load the Breast cancer dataset\n",
    "breast_cancer_X, breast_cancer_y = load_breast_cancer(return_X_y=True)"
   ]
  },
  {
   "cell_type": "code",
   "execution_count": 3,
   "metadata": {},
   "outputs": [],
   "source": [
    "## Model Building\n",
    "\n",
    "# # Split the data into training/testing sets\n",
    "breast_cancer_X_train, breast_cancer_X_test, breast_cancer_y_train, breast_cancer_y_test = train_test_split(\n",
    "                                                                            breast_cancer_X, breast_cancer_y, test_size=0.10, \n",
    "                                                                            random_state=50, stratify=breast_cancer_y)\n",
    "\n",
    "# Create Random Forest classification object with default parameter values\n",
    "random_forest_clf = RandomForestClassifier()\n",
    "\n",
    "# Train the model using the training sets\n",
    "random_forest_clf.fit(breast_cancer_X_train, breast_cancer_y_train)\n",
    "\n",
    "# Make predictions using the testing set\n",
    "breast_cancer_y_pred = random_forest_clf.predict(breast_cancer_X_test)\n",
    "\n",
    "# Getting Probability estimates for testing set\n",
    "breast_cancer_y_pred_prob = random_forest_clf.predict_proba(breast_cancer_X_test)"
   ]
  },
  {
   "cell_type": "code",
   "execution_count": 5,
   "metadata": {},
   "outputs": [],
   "source": [
    "# Random Forest classification object with default parameter values- detailed\n",
    "\n",
    "\"\"\"\n",
    "random_forest_clf = RandomForestClassifier(n_estimators=100, \n",
    "                                            criterion='gini', \n",
    "                                            max_depth=None, \n",
    "                                            min_samples_split=2, \n",
    "                                            min_samples_leaf=1, \n",
    "                                            min_weight_fraction_leaf=0.0, \n",
    "                                            max_features='auto', \n",
    "                                            max_leaf_nodes=None, \n",
    "                                            min_impurity_decrease=0.0, \n",
    "                                            bootstrap=True, \n",
    "                                            oob_score=False, \n",
    "                                            n_jobs=None, \n",
    "                                            random_state=None, \n",
    "                                            verbose=0, \n",
    "                                            warm_start=False, \n",
    "                                            class_weight=None, \n",
    "                                            ccp_alpha=0.0, \n",
    "                                            max_samples=None)\n",
    "\"\"\""
   ]
  }
 ],
 "metadata": {
  "kernelspec": {
   "display_name": "Python 3 (ipykernel)",
   "language": "python",
   "name": "python3"
  },
  "language_info": {
   "codemirror_mode": {
    "name": "ipython",
    "version": 3
   },
   "file_extension": ".py",
   "mimetype": "text/x-python",
   "name": "python",
   "nbconvert_exporter": "python",
   "pygments_lexer": "ipython3",
   "version": "3.9.7"
  }
 },
 "nbformat": 4,
 "nbformat_minor": 1
}
