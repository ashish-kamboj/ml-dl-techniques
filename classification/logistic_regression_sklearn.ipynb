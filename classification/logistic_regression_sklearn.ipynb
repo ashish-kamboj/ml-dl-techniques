{
 "cells": [
  {
   "cell_type": "markdown",
   "metadata": {},
   "source": [
    "# Logistic Regression Example"
   ]
  },
  {
   "cell_type": "code",
   "execution_count": 14,
   "metadata": {},
   "outputs": [],
   "source": [
    "## Importing Libraries\n",
    "\n",
    "from sklearn.datasets import load_iris\n",
    "from sklearn.linear_model import LogisticRegression\n",
    "from sklearn.model_selection import train_test_split"
   ]
  },
  {
   "cell_type": "code",
   "execution_count": 15,
   "metadata": {},
   "outputs": [],
   "source": [
    "## Loading Dataset\n",
    "\n",
    "# Load the Iris dataset\n",
    "iris_X, iris_y = load_iris(return_X_y=True)"
   ]
  },
  {
   "cell_type": "code",
   "execution_count": 16,
   "metadata": {},
   "outputs": [],
   "source": [
    "## Model Building\n",
    "\n",
    "# # Split the data into training/testing sets\n",
    "iris_X_train, iris_X_test, iris_y_train, iris_y_test = train_test_split(iris_X, iris_y, test_size=0.10, \n",
    "                                                                        random_state=50, stratify=iris_y)\n",
    "\n",
    "# Create Logistic regression object with default parameter values\n",
    "logistic_regression = LogisticRegression()\n",
    "\n",
    "# Train the model using the training sets\n",
    "logistic_regression.fit(iris_X_train, iris_y_train)\n",
    "\n",
    "# Make predictions using the testing set\n",
    "iris_y_pred = logistic_regression.predict(iris_X_test)\n",
    "\n",
    "# Getting Probability estimates for testing set\n",
    "iris_y_pred_prob = logistic_regression.predict_proba(iris_X_test)\n"
   ]
  },
  {
   "cell_type": "code",
   "execution_count": null,
   "metadata": {},
   "outputs": [],
   "source": [
    "# Logistic Regression object with default parameter values- detailed\n",
    "\n",
    "\"\"\"\n",
    "logistic_regression = LogisticRegression(penalty='l2', \n",
    "                                         dual=False, \n",
    "                                         tol=0.0001, \n",
    "                                         C=1.0, \n",
    "                                         fit_intercept=True, \n",
    "                                         intercept_scaling=1, \n",
    "                                         class_weight=None, \n",
    "                                         random_state=None, \n",
    "                                         solver='lbfgs', \n",
    "                                         max_iter=100, \n",
    "                                         multi_class='auto', \n",
    "                                         verbose=0, \n",
    "                                         warm_start=False, \n",
    "                                         n_jobs=None, \n",
    "                                         l1_ratio=None)\n",
    "\"\"\""
   ]
  }
 ],
 "metadata": {
  "kernelspec": {
   "display_name": "Python 3 (ipykernel)",
   "language": "python",
   "name": "python3"
  },
  "language_info": {
   "codemirror_mode": {
    "name": "ipython",
    "version": 3
   },
   "file_extension": ".py",
   "mimetype": "text/x-python",
   "name": "python",
   "nbconvert_exporter": "python",
   "pygments_lexer": "ipython3",
   "version": "3.9.7"
  }
 },
 "nbformat": 4,
 "nbformat_minor": 1
}
