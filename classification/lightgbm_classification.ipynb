{
 "cells": [
  {
   "cell_type": "markdown",
   "metadata": {},
   "source": [
    "# LightGBM Classification Example"
   ]
  },
  {
   "cell_type": "code",
   "execution_count": 2,
   "metadata": {},
   "outputs": [],
   "source": [
    "## Install Library\n",
    "\n",
    "!pip install lightgbm"
   ]
  },
  {
   "cell_type": "code",
   "execution_count": 1,
   "metadata": {},
   "outputs": [
    {
     "name": "stdout",
     "output_type": "stream",
     "text": [
      "3.3.2\n"
     ]
    }
   ],
   "source": [
    "## Checking lightgbm version\n",
    "\n",
    "import lightgbm\n",
    "print(lightgbm.__version__)"
   ]
  },
  {
   "cell_type": "code",
   "execution_count": 5,
   "metadata": {},
   "outputs": [],
   "source": [
    "## Importing Libraries\n",
    "\n",
    "from lightgbm import LGBMClassifier\n",
    "from sklearn.datasets import load_breast_cancer\n",
    "from sklearn.model_selection import train_test_split"
   ]
  },
  {
   "cell_type": "code",
   "execution_count": 6,
   "metadata": {},
   "outputs": [],
   "source": [
    "## Loading Dataset\n",
    "\n",
    "# Load the Breast cancer dataset\n",
    "breast_cancer_X, breast_cancer_y = load_breast_cancer(return_X_y=True)"
   ]
  },
  {
   "cell_type": "code",
   "execution_count": 9,
   "metadata": {},
   "outputs": [],
   "source": [
    "## Model Building\n",
    "\n",
    "# # Split the data into training/testing sets\n",
    "breast_cancer_X_train, breast_cancer_X_test, breast_cancer_y_train, breast_cancer_y_test = train_test_split(\n",
    "                                                                            breast_cancer_X, breast_cancer_y, test_size=0.10, \n",
    "                                                                            random_state=50, stratify=breast_cancer_y)\n",
    "\n",
    "# Create LightGBM classification object with default parameter values\n",
    "lightgbm_clf = LGBMClassifier()\n",
    "\n",
    "# Train the model using the training sets\n",
    "lightgbm_clf.fit(breast_cancer_X_train, breast_cancer_y_train)\n",
    "\n",
    "# Make predictions using the testing set\n",
    "breast_cancer_y_pred = lightgbm_clf.predict(breast_cancer_X_test)\n",
    "\n",
    "# Getting Probability estimates for testing set\n",
    "breast_cancer_y_pred_prob = lightgbm_clf.predict_proba(breast_cancer_X_test)"
   ]
  },
  {
   "cell_type": "code",
   "execution_count": 5,
   "metadata": {},
   "outputs": [],
   "source": [
    "# LightGBM classification object with default parameter values- detailed\n",
    "\n",
    "\"\"\"\n",
    "lightgbm_clf = LGBMClassifier(boosting_type='gbdt', \n",
    "                                num_leaves=31, \n",
    "                                max_depth=- 1, \n",
    "                                learning_rate=0.1, \n",
    "                                n_estimators=100, \n",
    "                                subsample_for_bin=200000, \n",
    "                                objective=None, \n",
    "                                class_weight=None, \n",
    "                                min_split_gain=0.0, \n",
    "                                min_child_weight=0.001, \n",
    "                                min_child_samples=20, \n",
    "                                subsample=1.0, \n",
    "                                subsample_freq=0, \n",
    "                                colsample_bytree=1.0, \n",
    "                                reg_alpha=0.0, \n",
    "                                reg_lambda=0.0, \n",
    "                                random_state=None, \n",
    "                                n_jobs=- 1, \n",
    "                                importance_type='split')\n",
    "\"\"\""
   ]
  }
 ],
 "metadata": {
  "kernelspec": {
   "display_name": "Python 3 (ipykernel)",
   "language": "python",
   "name": "python3"
  },
  "language_info": {
   "codemirror_mode": {
    "name": "ipython",
    "version": 3
   },
   "file_extension": ".py",
   "mimetype": "text/x-python",
   "name": "python",
   "nbconvert_exporter": "python",
   "pygments_lexer": "ipython3",
   "version": "3.9.7"
  }
 },
 "nbformat": 4,
 "nbformat_minor": 1
}
