{
 "cells": [
  {
   "cell_type": "markdown",
   "metadata": {},
   "source": [
    "# Gradient Boosting Classification Example"
   ]
  },
  {
   "cell_type": "code",
   "execution_count": 3,
   "metadata": {},
   "outputs": [],
   "source": [
    "## Importing Libraries\n",
    "\n",
    "from sklearn.datasets import load_breast_cancer\n",
    "from sklearn.model_selection import train_test_split\n",
    "from sklearn.ensemble import GradientBoostingClassifier"
   ]
  },
  {
   "cell_type": "code",
   "execution_count": 4,
   "metadata": {},
   "outputs": [],
   "source": [
    "## Loading Dataset\n",
    "\n",
    "# Load the Breast cancer dataset\n",
    "breast_cancer_X, breast_cancer_y = load_breast_cancer(return_X_y=True)"
   ]
  },
  {
   "cell_type": "code",
   "execution_count": 6,
   "metadata": {},
   "outputs": [],
   "source": [
    "## Model Building\n",
    "\n",
    "# # Split the data into training/testing sets\n",
    "breast_cancer_X_train, breast_cancer_X_test, breast_cancer_y_train, breast_cancer_y_test = train_test_split(\n",
    "                                                                            breast_cancer_X, breast_cancer_y, test_size=0.10, \n",
    "                                                                            random_state=50, stratify=breast_cancer_y)\n",
    "\n",
    "# Create Gradient Boosting classification object with default parameter values\n",
    "gradient_boosting_clf = GradientBoostingClassifier()\n",
    "\n",
    "# Train the model using the training sets\n",
    "gradient_boosting_clf.fit(breast_cancer_X_train, breast_cancer_y_train)\n",
    "\n",
    "# Make predictions using the testing set\n",
    "breast_cancer_y_pred = gradient_boosting_clf.predict(breast_cancer_X_test)\n",
    "\n",
    "# Getting Probability estimates for testing set\n",
    "breast_cancer_y_pred_prob = gradient_boosting_clf.predict_proba(breast_cancer_X_test)"
   ]
  },
  {
   "cell_type": "code",
   "execution_count": 5,
   "metadata": {},
   "outputs": [],
   "source": [
    "# Gradient Boosting classification object with default parameter values- detailed\n",
    "\n",
    "\"\"\"\n",
    "gradient_boosting_clf = GradientBoostingClassifier(loss='deviance', \n",
    "                                                    learning_rate=0.1, \n",
    "                                                    n_estimators=100, \n",
    "                                                    subsample=1.0, \n",
    "                                                    criterion='friedman_mse', \n",
    "                                                    min_samples_split=2, \n",
    "                                                    min_samples_leaf=1, \n",
    "                                                    min_weight_fraction_leaf=0.0, \n",
    "                                                    max_depth=3, \n",
    "                                                    min_impurity_decrease=0.0, \n",
    "                                                    init=None, \n",
    "                                                    random_state=None, \n",
    "                                                    max_features=None, \n",
    "                                                    verbose=0, \n",
    "                                                    max_leaf_nodes=None, \n",
    "                                                    warm_start=False, \n",
    "                                                    validation_fraction=0.1, \n",
    "                                                    n_iter_no_change=None, \n",
    "                                                    tol=0.0001, \n",
    "                                                    ccp_alpha=0.0)\n",
    "\"\"\""
   ]
  }
 ],
 "metadata": {
  "kernelspec": {
   "display_name": "Python 3 (ipykernel)",
   "language": "python",
   "name": "python3"
  },
  "language_info": {
   "codemirror_mode": {
    "name": "ipython",
    "version": 3
   },
   "file_extension": ".py",
   "mimetype": "text/x-python",
   "name": "python",
   "nbconvert_exporter": "python",
   "pygments_lexer": "ipython3",
   "version": "3.9.7"
  }
 },
 "nbformat": 4,
 "nbformat_minor": 1
}
