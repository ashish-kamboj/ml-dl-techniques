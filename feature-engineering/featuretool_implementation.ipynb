{
 "cells": [
  {
   "cell_type": "markdown",
   "id": "96bb9bbf",
   "metadata": {},
   "source": [
    "# Featuretools Library Example\n",
    "\n",
    "This notebook demonstrates the main capabilities of the [Featuretools](https://featuretools.alteryx.com/en/stable/) library for automated feature engineering. Featuretools is a powerful Python library for creating features from relational and time-series datasets, enabling machine learning workflows to be more efficient and effective.\n",
    "\n",
    "## Key Capabilities Demonstrated\n",
    "- **EntitySet creation**: Organize data into entities and relationships.\n",
    "- **Deep Feature Synthesis (DFS)**: Automatically generate features from raw data.\n",
    "- **Custom primitives**: Create your own feature transformations.\n",
    "- **Integration with scikit-learn**: Use generated features for ML models.\n",
    "- **Handling time-series and multi-table data**: Feature engineering across related tables.\n",
    "\n",
    "Let's explore these capabilities step by step with code and explanations."
   ]
  },
  {
   "cell_type": "code",
   "execution_count": null,
   "id": "3e305b21",
   "metadata": {},
   "outputs": [],
   "source": [
    "# Import libraries\n",
    "import pandas as pd\n",
    "import numpy as np\n",
    "import featuretools as ft\n",
    "\n",
    "# Create sample data: customers and transactions\n",
    "df_customers = pd.DataFrame({\n",
    "    'customer_id': [1, 2, 3],\n",
    "    'join_date': pd.to_datetime(['2021-01-01', '2021-02-01', '2021-03-01']),\n",
    "    'age': [34, 25, 40]\n",
    "})\n",
    "\n",
    "df_transactions = pd.DataFrame({\n",
    "    'transaction_id': [100, 101, 102, 103, 104],\n",
    "    'customer_id': [1, 2, 1, 3, 2],\n",
    "    'amount': [50, 100, 20, 70, 60],\n",
    "    'transaction_time': pd.to_datetime([\n",
    "        '2021-04-01', '2021-04-03', '2021-04-04', '2021-04-05', '2021-04-06'\n",
    "    ])\n",
    "})\n",
    "\n",
    "# Display sample data\n",
    "df_customers, df_transactions"
   ]
  },
  {
   "cell_type": "markdown",
   "id": "aa2648b5",
   "metadata": {},
   "source": [
    "## 1. EntitySet Creation and Relationships\n",
    "\n",
    "Featuretools uses an EntitySet to organize data into tables (entities) and define relationships between them. This enables automated feature engineering across multiple tables."
   ]
  },
  {
   "cell_type": "code",
   "execution_count": null,
   "id": "5120df23",
   "metadata": {},
   "outputs": [],
   "source": [
    "# Create an EntitySet\n",
    "es = ft.EntitySet(id='customer_data')\n",
    "\n",
    "# Add customers entity\n",
    "es = es.add_dataframe(\n",
    "    dataframe_name='customers',\n",
    "    dataframe=df_customers,\n",
    "    index='customer_id',\n",
    "    time_index='join_date'\n",
    ")\n",
    "\n",
    "# Add transactions entity\n",
    "es = es.add_dataframe(\n",
    "    dataframe_name='transactions',\n",
    "    dataframe=df_transactions,\n",
    "    index='transaction_id',\n",
    "    time_index='transaction_time',\n",
    ")\n",
    "\n",
    "# Define relationship: transactions belong to customers\n",
    "relationship = ft.Relationship(\n",
    "    es['customers']['customer_id'],\n",
    "    es['transactions']['customer_id']\n",
    ")\n",
    "es = es.add_relationship(relationship)\n",
    "\n",
    "# Display EntitySet structure\n",
    "es"
   ]
  },
  {
   "cell_type": "markdown",
   "id": "2c889e37",
   "metadata": {},
   "source": [
    "## 2. Deep Feature Synthesis (DFS)\n",
    "\n",
    "DFS is the core algorithm in Featuretools that automatically generates new features by stacking and combining primitive operations (like sum, mean, count) across relationships in the EntitySet."
   ]
  },
  {
   "cell_type": "code",
   "execution_count": null,
   "id": "c9b1ef36",
   "metadata": {},
   "outputs": [],
   "source": [
    "# Run Deep Feature Synthesis to automatically create features for customers\n",
    "feature_matrix, feature_defs = ft.dfs(\n",
    "    entityset=es,\n",
    "    target_dataframe_name='customers',\n",
    "    agg_primitives=['sum', 'mean', 'count', 'max', 'min'],\n",
    "    trans_primitives=['month', 'year'],\n",
    ")\n",
    "\n",
    "# Display generated feature matrix\n",
    "feature_matrix"
   ]
  },
  {
   "cell_type": "markdown",
   "id": "1ab68818",
   "metadata": {},
   "source": [
    "## 3. Custom Primitives\n",
    "\n",
    "Featuretools allows you to define your own custom feature transformations (primitives) to extend its capabilities beyond built-in operations."
   ]
  },
  {
   "cell_type": "code",
   "execution_count": null,
   "id": "6143ee9c",
   "metadata": {},
   "outputs": [],
   "source": [
    "from featuretools.primitives import TransformPrimitive\n",
    "from featuretools.variable_types import Numeric\n",
    "\n",
    "# Define a custom primitive: double the transaction amount\n",
    "class DoubleAmount(TransformPrimitive):\n",
    "    name = \"double_amount\"\n",
    "    input_types = [Numeric]\n",
    "    return_type = Numeric\n",
    "    def transform(self, series, **kwargs):\n",
    "        return series * 2\n",
    "\n",
    "# Run DFS with custom primitive\n",
    "feature_matrix_custom, feature_defs_custom = ft.dfs(\n",
    "    entityset=es,\n",
    "    target_dataframe_name='customers',\n",
    "    agg_primitives=['sum'],\n",
    "    trans_primitives=[DoubleAmount],\n",
    ")\n",
    "\n",
    "# Display features with custom primitive\n",
    "feature_matrix_custom"
   ]
  },
  {
   "cell_type": "markdown",
   "id": "596d0e9c",
   "metadata": {},
   "source": [
    "## 4. Using Generated Features for Machine Learning\n",
    "\n",
    "Featuretools integrates seamlessly with scikit-learn and other ML libraries. You can use the generated feature matrix directly for training models."
   ]
  },
  {
   "cell_type": "code",
   "execution_count": null,
   "id": "9922a30e",
   "metadata": {},
   "outputs": [],
   "source": [
    "from sklearn.ensemble import RandomForestClassifier\n",
    "from sklearn.model_selection import train_test_split\n",
    "\n",
    "# For demonstration, create a fake target variable (e.g., high value customer)\n",
    "feature_matrix['is_high_value'] = (feature_matrix['SUM(transactions.amount)'] > 100).astype(int)\n",
    "\n",
    "# Prepare data for ML\n",
    "X = feature_matrix.drop('is_high_value', axis=1)\n",
    "y = feature_matrix['is_high_value']\n",
    "\n",
    "# Split data\n",
    "X_train, X_test, y_train, y_test = train_test_split(X, y, test_size=0.33, random_state=42)\n",
    "\n",
    "# Train a classifier\n",
    "clf = RandomForestClassifier()\n",
    "clf.fit(X_train, y_train)\n",
    "\n",
    "# Evaluate\n",
    "score = clf.score(X_test, y_test)\n",
    "print(f\"Random Forest accuracy: {score:.2f}\")"
   ]
  },
  {
   "cell_type": "markdown",
   "id": "51a9bac8",
   "metadata": {},
   "source": [
    "## 5. Time-Series and Multi-Table Feature Engineering\n",
    "\n",
    "Featuretools excels at handling time-based and relational data. You can generate features that respect cutoff times, rolling windows, and relationships across multiple tables, making it ideal for complex real-world datasets."
   ]
  },
  {
   "cell_type": "code",
   "execution_count": null,
   "id": "ed61dc37",
   "metadata": {},
   "outputs": [],
   "source": [
    "# Example: Generate features with cutoff times (simulate as-of feature engineering)\n",
    "cutoff_times = pd.DataFrame({\n",
    "    'customer_id': [1, 2, 3],\n",
    "    'cutoff_time': pd.to_datetime(['2021-04-04', '2021-04-06', '2021-04-05'])\n",
    "})\n",
    "\n",
    "feature_matrix_cutoff, feature_defs_cutoff = ft.dfs(\n",
    "    entityset=es,\n",
    "    target_dataframe_name='customers',\n",
    "    cutoff_time=cutoff_times,\n",
    "    agg_primitives=['sum', 'count'],\n",
    ")\n",
    "\n",
    "# Display features with cutoff times\n",
    "feature_matrix_cutoff"
   ]
  },
  {
   "cell_type": "markdown",
   "id": "a79a235b",
   "metadata": {},
   "source": [
    "# Summary & Further Resources\n",
    "\n",
    "This notebook covered the main capabilities of Featuretools:\n",
    "- Organizing data with EntitySets and relationships\n",
    "- Automated feature engineering with DFS\n",
    "- Custom primitives for advanced transformations\n",
    "- Integration with machine learning workflows\n",
    "- Handling time-series and multi-table data\n",
    "\n",
    "For more details, visit the [Featuretools documentation](https://featuretools.alteryx.com/en/stable/).\n",
    "\n",
    "Feel free to experiment with your own data and primitives!"
   ]
  }
 ],
 "metadata": {
  "kernelspec": {
   "display_name": "ipynb_kernel",
   "language": "python",
   "name": "venv"
  },
  "language_info": {
   "name": "python",
   "version": "3.11.3"
  }
 },
 "nbformat": 4,
 "nbformat_minor": 5
}
