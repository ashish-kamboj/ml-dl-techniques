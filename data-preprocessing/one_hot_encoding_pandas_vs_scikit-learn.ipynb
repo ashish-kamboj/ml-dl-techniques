{
 "cells": [
  {
   "cell_type": "markdown",
   "id": "9d10be75",
   "metadata": {},
   "source": [
    "## <ins>Objective</ins>\n",
    "\n",
    "<br>\n",
    "<font size=\"3\">\n",
    "    \n",
    "We'll compare pandas **get_dummies** with sklearn **OneHotEncoder**, which one to use in real world to oneHot encoding of categorical variables\n",
    "    \n",
    "</font>"
   ]
  },
  {
   "cell_type": "code",
   "execution_count": 1,
   "id": "6d862cee",
   "metadata": {},
   "outputs": [],
   "source": [
    "## Importing Libraries\n",
    "import pandas as pd"
   ]
  },
  {
   "cell_type": "markdown",
   "id": "c2246f61",
   "metadata": {},
   "source": [
    "## Preparing Train and Test dataframes"
   ]
  },
  {
   "cell_type": "code",
   "execution_count": 2,
   "id": "75b7f354",
   "metadata": {},
   "outputs": [
    {
     "data": {
      "text/html": [
       "<div>\n",
       "<style scoped>\n",
       "    .dataframe tbody tr th:only-of-type {\n",
       "        vertical-align: middle;\n",
       "    }\n",
       "\n",
       "    .dataframe tbody tr th {\n",
       "        vertical-align: top;\n",
       "    }\n",
       "\n",
       "    .dataframe thead th {\n",
       "        text-align: right;\n",
       "    }\n",
       "</style>\n",
       "<table border=\"1\" class=\"dataframe\">\n",
       "  <thead>\n",
       "    <tr style=\"text-align: right;\">\n",
       "      <th></th>\n",
       "      <th>Name</th>\n",
       "      <th>Age</th>\n",
       "      <th>University</th>\n",
       "    </tr>\n",
       "  </thead>\n",
       "  <tbody>\n",
       "    <tr>\n",
       "      <th>0</th>\n",
       "      <td>Ankit</td>\n",
       "      <td>23</td>\n",
       "      <td>BHU</td>\n",
       "    </tr>\n",
       "    <tr>\n",
       "      <th>1</th>\n",
       "      <td>Aishwarya</td>\n",
       "      <td>21</td>\n",
       "      <td>JNU</td>\n",
       "    </tr>\n",
       "    <tr>\n",
       "      <th>2</th>\n",
       "      <td>Shaurya</td>\n",
       "      <td>22</td>\n",
       "      <td>DU</td>\n",
       "    </tr>\n",
       "    <tr>\n",
       "      <th>3</th>\n",
       "      <td>Shivangi</td>\n",
       "      <td>21</td>\n",
       "      <td>BHU</td>\n",
       "    </tr>\n",
       "  </tbody>\n",
       "</table>\n",
       "</div>"
      ],
      "text/plain": [
       "        Name  Age University\n",
       "0      Ankit   23        BHU\n",
       "1  Aishwarya   21        JNU\n",
       "2    Shaurya   22         DU\n",
       "3   Shivangi   21        BHU"
      ]
     },
     "execution_count": 2,
     "metadata": {},
     "output_type": "execute_result"
    }
   ],
   "source": [
    "## Train Data\n",
    "train_details = {\n",
    "    'Name' : ['Ankit', 'Aishwarya', 'Shaurya', 'Shivangi'],\n",
    "    'Age' : [23, 21, 22, 21],\n",
    "    'University' : ['BHU', 'JNU', 'DU', 'BHU'],\n",
    "}\n",
    "  \n",
    "# creating a Dataframe object \n",
    "df_train = pd.DataFrame(train_details)\n",
    "df_train"
   ]
  },
  {
   "cell_type": "code",
   "execution_count": 3,
   "id": "33be9406",
   "metadata": {},
   "outputs": [
    {
     "data": {
      "text/html": [
       "<div>\n",
       "<style scoped>\n",
       "    .dataframe tbody tr th:only-of-type {\n",
       "        vertical-align: middle;\n",
       "    }\n",
       "\n",
       "    .dataframe tbody tr th {\n",
       "        vertical-align: top;\n",
       "    }\n",
       "\n",
       "    .dataframe thead th {\n",
       "        text-align: right;\n",
       "    }\n",
       "</style>\n",
       "<table border=\"1\" class=\"dataframe\">\n",
       "  <thead>\n",
       "    <tr style=\"text-align: right;\">\n",
       "      <th></th>\n",
       "      <th>Name</th>\n",
       "      <th>Age</th>\n",
       "      <th>University</th>\n",
       "    </tr>\n",
       "  </thead>\n",
       "  <tbody>\n",
       "    <tr>\n",
       "      <th>0</th>\n",
       "      <td>Ajay</td>\n",
       "      <td>20</td>\n",
       "      <td>BHU</td>\n",
       "    </tr>\n",
       "    <tr>\n",
       "      <th>1</th>\n",
       "      <td>Amit</td>\n",
       "      <td>21</td>\n",
       "      <td>DU</td>\n",
       "    </tr>\n",
       "    <tr>\n",
       "      <th>2</th>\n",
       "      <td>Rajesh</td>\n",
       "      <td>22</td>\n",
       "      <td>DU</td>\n",
       "    </tr>\n",
       "    <tr>\n",
       "      <th>3</th>\n",
       "      <td>Rashmi</td>\n",
       "      <td>23</td>\n",
       "      <td>BHU</td>\n",
       "    </tr>\n",
       "  </tbody>\n",
       "</table>\n",
       "</div>"
      ],
      "text/plain": [
       "     Name  Age University\n",
       "0    Ajay   20        BHU\n",
       "1    Amit   21         DU\n",
       "2  Rajesh   22         DU\n",
       "3  Rashmi   23        BHU"
      ]
     },
     "execution_count": 3,
     "metadata": {},
     "output_type": "execute_result"
    }
   ],
   "source": [
    "## Test Data\n",
    "test_details = {\n",
    "    'Name' : ['Ajay', 'Amit', 'Rajesh', 'Rashmi'],\n",
    "    'Age' : [20, 21, 22, 23],\n",
    "    'University' : ['BHU', 'DU', 'DU', 'BHU'],\n",
    "}\n",
    "  \n",
    "# creating a Dataframe object \n",
    "df_test = pd.DataFrame(test_details)\n",
    "df_test"
   ]
  },
  {
   "cell_type": "markdown",
   "id": "db6685bd",
   "metadata": {},
   "source": [
    "## One-Hot Encoding Using Pandas"
   ]
  },
  {
   "cell_type": "code",
   "execution_count": 4,
   "id": "b3d94392",
   "metadata": {},
   "outputs": [
    {
     "data": {
      "text/html": [
       "<div>\n",
       "<style scoped>\n",
       "    .dataframe tbody tr th:only-of-type {\n",
       "        vertical-align: middle;\n",
       "    }\n",
       "\n",
       "    .dataframe tbody tr th {\n",
       "        vertical-align: top;\n",
       "    }\n",
       "\n",
       "    .dataframe thead th {\n",
       "        text-align: right;\n",
       "    }\n",
       "</style>\n",
       "<table border=\"1\" class=\"dataframe\">\n",
       "  <thead>\n",
       "    <tr style=\"text-align: right;\">\n",
       "      <th></th>\n",
       "      <th>Name</th>\n",
       "      <th>Age</th>\n",
       "      <th>University_BHU</th>\n",
       "      <th>University_DU</th>\n",
       "      <th>University_JNU</th>\n",
       "    </tr>\n",
       "  </thead>\n",
       "  <tbody>\n",
       "    <tr>\n",
       "      <th>0</th>\n",
       "      <td>Ankit</td>\n",
       "      <td>23</td>\n",
       "      <td>1</td>\n",
       "      <td>0</td>\n",
       "      <td>0</td>\n",
       "    </tr>\n",
       "    <tr>\n",
       "      <th>1</th>\n",
       "      <td>Aishwarya</td>\n",
       "      <td>21</td>\n",
       "      <td>0</td>\n",
       "      <td>0</td>\n",
       "      <td>1</td>\n",
       "    </tr>\n",
       "    <tr>\n",
       "      <th>2</th>\n",
       "      <td>Shaurya</td>\n",
       "      <td>22</td>\n",
       "      <td>0</td>\n",
       "      <td>1</td>\n",
       "      <td>0</td>\n",
       "    </tr>\n",
       "    <tr>\n",
       "      <th>3</th>\n",
       "      <td>Shivangi</td>\n",
       "      <td>21</td>\n",
       "      <td>1</td>\n",
       "      <td>0</td>\n",
       "      <td>0</td>\n",
       "    </tr>\n",
       "  </tbody>\n",
       "</table>\n",
       "</div>"
      ],
      "text/plain": [
       "        Name  Age  University_BHU  University_DU  University_JNU\n",
       "0      Ankit   23               1              0               0\n",
       "1  Aishwarya   21               0              0               1\n",
       "2    Shaurya   22               0              1               0\n",
       "3   Shivangi   21               1              0               0"
      ]
     },
     "execution_count": 4,
     "metadata": {},
     "output_type": "execute_result"
    }
   ],
   "source": [
    "## On Training Data\n",
    "\n",
    "df_train_new = pd.get_dummies(df_train, columns=['University'])\n",
    "df_train_new"
   ]
  },
  {
   "cell_type": "code",
   "execution_count": 5,
   "id": "e98350bb",
   "metadata": {},
   "outputs": [
    {
     "data": {
      "text/html": [
       "<div>\n",
       "<style scoped>\n",
       "    .dataframe tbody tr th:only-of-type {\n",
       "        vertical-align: middle;\n",
       "    }\n",
       "\n",
       "    .dataframe tbody tr th {\n",
       "        vertical-align: top;\n",
       "    }\n",
       "\n",
       "    .dataframe thead th {\n",
       "        text-align: right;\n",
       "    }\n",
       "</style>\n",
       "<table border=\"1\" class=\"dataframe\">\n",
       "  <thead>\n",
       "    <tr style=\"text-align: right;\">\n",
       "      <th></th>\n",
       "      <th>Name</th>\n",
       "      <th>Age</th>\n",
       "      <th>University_BHU</th>\n",
       "      <th>University_DU</th>\n",
       "    </tr>\n",
       "  </thead>\n",
       "  <tbody>\n",
       "    <tr>\n",
       "      <th>0</th>\n",
       "      <td>Ajay</td>\n",
       "      <td>20</td>\n",
       "      <td>1</td>\n",
       "      <td>0</td>\n",
       "    </tr>\n",
       "    <tr>\n",
       "      <th>1</th>\n",
       "      <td>Amit</td>\n",
       "      <td>21</td>\n",
       "      <td>0</td>\n",
       "      <td>1</td>\n",
       "    </tr>\n",
       "    <tr>\n",
       "      <th>2</th>\n",
       "      <td>Rajesh</td>\n",
       "      <td>22</td>\n",
       "      <td>0</td>\n",
       "      <td>1</td>\n",
       "    </tr>\n",
       "    <tr>\n",
       "      <th>3</th>\n",
       "      <td>Rashmi</td>\n",
       "      <td>23</td>\n",
       "      <td>1</td>\n",
       "      <td>0</td>\n",
       "    </tr>\n",
       "  </tbody>\n",
       "</table>\n",
       "</div>"
      ],
      "text/plain": [
       "     Name  Age  University_BHU  University_DU\n",
       "0    Ajay   20               1              0\n",
       "1    Amit   21               0              1\n",
       "2  Rajesh   22               0              1\n",
       "3  Rashmi   23               1              0"
      ]
     },
     "execution_count": 5,
     "metadata": {},
     "output_type": "execute_result"
    }
   ],
   "source": [
    "## On Test Data\n",
    "\n",
    "df_test_new = pd.get_dummies(df_test, columns=['University'])\n",
    "df_test_new"
   ]
  },
  {
   "cell_type": "markdown",
   "id": "e9b67954",
   "metadata": {},
   "source": [
    "## One-Hot Encoding Using Scikit-learn OneHotEncoder"
   ]
  },
  {
   "cell_type": "code",
   "execution_count": 6,
   "id": "0c8eebbd",
   "metadata": {},
   "outputs": [
    {
     "data": {
      "text/plain": [
       "array([[1., 0., 0.],\n",
       "       [0., 0., 1.],\n",
       "       [0., 1., 0.],\n",
       "       [1., 0., 0.]])"
      ]
     },
     "execution_count": 6,
     "metadata": {},
     "output_type": "execute_result"
    }
   ],
   "source": [
    "from sklearn.preprocessing import OneHotEncoder\n",
    "\n",
    "sklearn_one_hot_encoder = OneHotEncoder()\n",
    "sklearn_one_hot_encoder.fit(df_train['University'].values.reshape(-1,1))\n",
    "\n",
    "train_university_one_hot_encoding = sklearn_one_hot_encoder.transform(df_train['University'].values.reshape(-1,1)).toarray()\n",
    "train_university_one_hot_encoding"
   ]
  },
  {
   "cell_type": "code",
   "execution_count": 7,
   "id": "bc8fc22a",
   "metadata": {},
   "outputs": [
    {
     "data": {
      "text/plain": [
       "array([[1., 0., 0.],\n",
       "       [0., 1., 0.],\n",
       "       [0., 1., 0.],\n",
       "       [1., 0., 0.]])"
      ]
     },
     "execution_count": 7,
     "metadata": {},
     "output_type": "execute_result"
    }
   ],
   "source": [
    "## On Test Data\n",
    "\n",
    "test_university_one_hot_encoding = sklearn_one_hot_encoder.transform(df_test['University'].values.reshape(-1,1)).toarray()\n",
    "test_university_one_hot_encoding"
   ]
  },
  {
   "cell_type": "markdown",
   "id": "4e7e330e",
   "metadata": {},
   "source": [
    "## <ins>Conclusion</ins>\n",
    "\n",
    "<br>\n",
    "<font size=\"3\">\n",
    "\n",
    "As you clearly see we have to use sklearn **OneHotEncoder** as it automatically handled the case where the number of categories in test data is less comapred to training data in a categorical variable. If this won't be handled theen there will be an error while testing the model \n",
    "    \n",
    "</font>"
   ]
  },
  {
   "cell_type": "code",
   "execution_count": null,
   "id": "8108eb4d",
   "metadata": {},
   "outputs": [],
   "source": []
  }
 ],
 "metadata": {
  "kernelspec": {
   "display_name": "Python 3 (ipykernel)",
   "language": "python",
   "name": "python3"
  },
  "language_info": {
   "codemirror_mode": {
    "name": "ipython",
    "version": 3
   },
   "file_extension": ".py",
   "mimetype": "text/x-python",
   "name": "python",
   "nbconvert_exporter": "python",
   "pygments_lexer": "ipython3",
   "version": "3.9.7"
  }
 },
 "nbformat": 4,
 "nbformat_minor": 5
}
